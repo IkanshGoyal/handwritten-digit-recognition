{
 "cells": [
  {
   "cell_type": "code",
   "execution_count": 5,
   "id": "bf8d6513-aff0-47ef-93af-bc2f1b2cc7c0",
   "metadata": {},
   "outputs": [
    {
     "name": "stderr",
     "output_type": "stream",
     "text": [
      "/var/folders/x2/cn8gtzzs3x90r0bq2nd7vg840000gn/T/ipykernel_842/2833413937.py:2: DeprecationWarning: \n",
      "Pyarrow will become a required dependency of pandas in the next major release of pandas (pandas 3.0),\n",
      "(to allow more performant data types, such as the Arrow string type, and better interoperability with other libraries)\n",
      "but was not found to be installed on your system.\n",
      "If this would cause problems for you,\n",
      "please provide us feedback at https://github.com/pandas-dev/pandas/issues/54466\n",
      "        \n",
      "  import pandas as pd\n",
      "2024-02-25 12:08:13.061207: I tensorflow/core/platform/cpu_feature_guard.cc:182] This TensorFlow binary is optimized to use available CPU instructions in performance-critical operations.\n",
      "To enable the following instructions: AVX2 AVX512F AVX512_VNNI FMA, in other operations, rebuild TensorFlow with the appropriate compiler flags.\n",
      "/Users/ikanshgoyal/Desktop/digit/lib/python3.9/site-packages/urllib3/__init__.py:35: NotOpenSSLWarning: urllib3 v2 only supports OpenSSL 1.1.1+, currently the 'ssl' module is compiled with 'LibreSSL 2.8.3'. See: https://github.com/urllib3/urllib3/issues/3020\n",
      "  warnings.warn(\n"
     ]
    }
   ],
   "source": [
    "import numpy as np\n",
    "import pandas as pd\n",
    "import tensorflow as tf\n",
    "from keras import layers\n",
    "from matplotlib import pyplot as plt"
   ]
  },
  {
   "cell_type": "code",
   "execution_count": 10,
   "id": "118765fc-dc92-4935-948c-a70c87156e97",
   "metadata": {},
   "outputs": [],
   "source": [
    "(x_train, y_train),(x_test, y_test) = tf.keras.datasets.mnist.load_data()"
   ]
  },
  {
   "cell_type": "code",
   "execution_count": 11,
   "id": "74cc1dbe-8c3e-4493-9779-f183262a3f69",
   "metadata": {},
   "outputs": [
    {
     "data": {
      "text/plain": [
       "<matplotlib.image.AxesImage at 0x1271a2a30>"
      ]
     },
     "execution_count": 11,
     "metadata": {},
     "output_type": "execute_result"
    },
    {
     "data": {
      "image/png": "[encoded data removed]",
      "text/plain": [
       "<Figure size 640x480 with 1 Axes>"
      ]
     },
     "metadata": {},
     "output_type": "display_data"
    }
   ],
   "source": [
    "plt.imshow(x_train[2920])"
   ]
  },
  {
   "cell_type": "code",
   "execution_count": 12,
   "id": "9e1775e5",
   "metadata": {},
   "outputs": [],
   "source": [
    "x_train_normalized = x_train / 255.0\n",
    "x_test_normalized = x_test / 255.0"
   ]
  },
  {
   "cell_type": "code",
   "execution_count": 13,
   "id": "a71999b4",
   "metadata": {},
   "outputs": [
    {
     "name": "stdout",
     "output_type": "stream",
     "text": [
      "Loaded the plot_curve function.\n"
     ]
    }
   ],
   "source": [
    "def plot_curve(epochs, hist, list_of_metrics):\n",
    "  \"\"\"Plot a curve of one or more classification metrics vs. epoch.\"\"\"  \n",
    "  # list_of_metrics should be one of the names shown in:\n",
    "  # https://www.tensorflow.org/tutorials/structured_data/imbalanced_data#define_the_model_and_metrics  \n",
    "\n",
    "  plt.figure()\n",
    "  plt.xlabel(\"Epoch\")\n",
    "  plt.ylabel(\"Value\")\n",
    "\n",
    "  for m in list_of_metrics:\n",
    "    x = hist[m]\n",
    "    plt.plot(epochs[1:], x[1:], label=m)\n",
    "\n",
    "  plt.legend()\n",
    "\n",
    "print(\"Loaded the plot_curve function.\")"
   ]
  },
  {
   "cell_type": "code",
   "execution_count": 21,
   "id": "abc77d70",
   "metadata": {},
   "outputs": [],
   "source": [
    "def create_model(my_learning_rate):\n",
    "    \"\"\"Create and compile a deep neural net.\"\"\"\n",
    "    model = tf.keras.models.Sequential()\n",
    "    model.add(tf.keras.layers.Flatten(input_shape=(28, 28)))\n",
    "    model.add(tf.keras.layers.Dense(units=256, activation='relu'))\n",
    "    model.add(tf.keras.layers.Dropout(rate=0.2))\n",
    "    model.add(tf.keras.layers.Dense(units=128, activation='softmax'))\n",
    "\n",
    "    # Construct the layers into a model that TensorFlow can execute.\n",
    "    model.compile(optimizer=tf.keras.optimizers.Adam(learning_rate=my_learning_rate),\n",
    "                  loss=\"sparse_categorical_crossentropy\",\n",
    "                  metrics=['accuracy'])\n",
    "\n",
    "    return model\n",
    "\n",
    "def learning_rate_schedule(epoch, initial_learning_rate=0.003, decay_steps=10000, decay_rate=0.9):\n",
    "    \"\"\"Learning rate schedule function.\"\"\"\n",
    "    return initial_learning_rate * decay_rate**(epoch / decay_steps)\n",
    "\n",
    "def train_model(model, train_features, train_label, epochs,\n",
    "                batch_size=None, validation_split=0.1):\n",
    "    \"\"\"Train the model by feeding it data.\"\"\"\n",
    "\n",
    "    # Define the Learning Rate Scheduler callback\n",
    "    lr_scheduler = tf.keras.callbacks.LearningRateScheduler(learning_rate_schedule)\n",
    "\n",
    "    history = model.fit(x=train_features, y=train_label, batch_size=batch_size,\n",
    "                        epochs=epochs, shuffle=True, \n",
    "                        validation_split=validation_split,\n",
    "                        callbacks=[lr_scheduler])\n",
    "\n",
    "    # To track the progression of training, gather a snapshot\n",
    "    # of the model's metrics at each epoch. \n",
    "    epochs = history.epoch\n",
    "    hist = pd.DataFrame(history.history)\n",
    "\n",
    "    return epochs, hist"
   ]
  },
  {
   "cell_type": "code",
   "execution_count": 22,
   "id": "08cdbb74",
   "metadata": {},
   "outputs": [
    {
     "name": "stdout",
     "output_type": "stream",
     "text": [
      "Epoch 1/50\n",
      "12/12 [==============================] - 2s 118ms/step - loss: 1.8921 - accuracy: 0.5444 - val_loss: 0.5472 - val_accuracy: 0.8347 - lr: 0.0030\n",
      "Epoch 2/50\n",
      "12/12 [==============================] - 1s 80ms/step - loss: 0.5435 - accuracy: 0.8294 - val_loss: 0.3498 - val_accuracy: 0.8975 - lr: 0.0030\n",
      "Epoch 3/50\n",
      "12/12 [==============================] - 1s 82ms/step - loss: 0.4070 - accuracy: 0.8786 - val_loss: 0.2949 - val_accuracy: 0.9166 - lr: 0.0030\n",
      "Epoch 4/50\n",
      "12/12 [==============================] - 1s 86ms/step - loss: 0.3363 - accuracy: 0.9014 - val_loss: 0.2595 - val_accuracy: 0.9279 - lr: 0.0030\n",
      "Epoch 5/50\n",
      "12/12 [==============================] - 1s 79ms/step - loss: 0.2937 - accuracy: 0.9153 - val_loss: 0.2345 - val_accuracy: 0.9349 - lr: 0.0030\n",
      "Epoch 6/50\n",
      "12/12 [==============================] - 1s 92ms/step - loss: 0.2638 - accuracy: 0.9238 - val_loss: 0.2129 - val_accuracy: 0.9411 - lr: 0.0030\n",
      "Epoch 7/50\n",
      "12/12 [==============================] - 1s 79ms/step - loss: 0.2346 - accuracy: 0.9341 - val_loss: 0.1944 - val_accuracy: 0.9457 - lr: 0.0030\n",
      "Epoch 8/50\n",
      "12/12 [==============================] - 1s 77ms/step - loss: 0.2144 - accuracy: 0.9391 - val_loss: 0.1807 - val_accuracy: 0.9502 - lr: 0.0030\n",
      "Epoch 9/50\n",
      "12/12 [==============================] - 1s 78ms/step - loss: 0.1959 - accuracy: 0.9438 - val_loss: 0.1680 - val_accuracy: 0.9529 - lr: 0.0030\n",
      "Epoch 10/50\n",
      "12/12 [==============================] - 1s 80ms/step - loss: 0.1818 - accuracy: 0.9477 - val_loss: 0.1585 - val_accuracy: 0.9566 - lr: 0.0030\n",
      "Epoch 11/50\n",
      "12/12 [==============================] - 1s 109ms/step - loss: 0.1672 - accuracy: 0.9513 - val_loss: 0.1501 - val_accuracy: 0.9572 - lr: 0.0030\n",
      "Epoch 12/50\n",
      "12/12 [==============================] - 1s 102ms/step - loss: 0.1589 - accuracy: 0.9533 - val_loss: 0.1433 - val_accuracy: 0.9596 - lr: 0.0030\n",
      "Epoch 13/50\n",
      "12/12 [==============================] - 1s 89ms/step - loss: 0.1466 - accuracy: 0.9585 - val_loss: 0.1371 - val_accuracy: 0.9601 - lr: 0.0030\n",
      "Epoch 14/50\n",
      "12/12 [==============================] - 1s 94ms/step - loss: 0.1382 - accuracy: 0.9607 - val_loss: 0.1318 - val_accuracy: 0.9624 - lr: 0.0030\n",
      "Epoch 15/50\n",
      "12/12 [==============================] - 1s 94ms/step - loss: 0.1316 - accuracy: 0.9615 - val_loss: 0.1269 - val_accuracy: 0.9641 - lr: 0.0030\n",
      "Epoch 16/50\n",
      "12/12 [==============================] - 1s 105ms/step - loss: 0.1236 - accuracy: 0.9652 - val_loss: 0.1226 - val_accuracy: 0.9649 - lr: 0.0030\n",
      "Epoch 17/50\n",
      "12/12 [==============================] - 1s 88ms/step - loss: 0.1170 - accuracy: 0.9664 - val_loss: 0.1179 - val_accuracy: 0.9658 - lr: 0.0030\n",
      "Epoch 18/50\n",
      "12/12 [==============================] - 1s 75ms/step - loss: 0.1131 - accuracy: 0.9672 - val_loss: 0.1145 - val_accuracy: 0.9669 - lr: 0.0030\n",
      "Epoch 19/50\n",
      "12/12 [==============================] - 1s 78ms/step - loss: 0.1067 - accuracy: 0.9690 - val_loss: 0.1117 - val_accuracy: 0.9676 - lr: 0.0030\n",
      "Epoch 20/50\n",
      "12/12 [==============================] - 1s 73ms/step - loss: 0.1029 - accuracy: 0.9704 - val_loss: 0.1087 - val_accuracy: 0.9688 - lr: 0.0030\n",
      "Epoch 21/50\n",
      "12/12 [==============================] - 1s 79ms/step - loss: 0.0971 - accuracy: 0.9722 - val_loss: 0.1059 - val_accuracy: 0.9682 - lr: 0.0030\n",
      "Epoch 22/50\n",
      "12/12 [==============================] - 1s 79ms/step - loss: 0.0913 - accuracy: 0.9735 - val_loss: 0.1028 - val_accuracy: 0.9707 - lr: 0.0030\n",
      "Epoch 23/50\n",
      "12/12 [==============================] - 1s 75ms/step - loss: 0.0886 - accuracy: 0.9746 - val_loss: 0.1016 - val_accuracy: 0.9695 - lr: 0.0030\n",
      "Epoch 24/50\n",
      "12/12 [==============================] - 1s 78ms/step - loss: 0.0862 - accuracy: 0.9754 - val_loss: 0.0986 - val_accuracy: 0.9712 - lr: 0.0030\n",
      "Epoch 25/50\n",
      "12/12 [==============================] - 1s 98ms/step - loss: 0.0804 - accuracy: 0.9765 - val_loss: 0.0968 - val_accuracy: 0.9710 - lr: 0.0030\n",
      "Epoch 26/50\n",
      "12/12 [==============================] - 1s 97ms/step - loss: 0.0787 - accuracy: 0.9775 - val_loss: 0.0952 - val_accuracy: 0.9714 - lr: 0.0030\n",
      "Epoch 27/50\n",
      "12/12 [==============================] - 1s 105ms/step - loss: 0.0773 - accuracy: 0.9773 - val_loss: 0.0941 - val_accuracy: 0.9723 - lr: 0.0030\n",
      "Epoch 28/50\n",
      "12/12 [==============================] - 1s 97ms/step - loss: 0.0736 - accuracy: 0.9789 - val_loss: 0.0925 - val_accuracy: 0.9718 - lr: 0.0030\n",
      "Epoch 29/50\n",
      "12/12 [==============================] - 1s 94ms/step - loss: 0.0699 - accuracy: 0.9797 - val_loss: 0.0920 - val_accuracy: 0.9718 - lr: 0.0030\n",
      "Epoch 30/50\n",
      "12/12 [==============================] - 1s 103ms/step - loss: 0.0683 - accuracy: 0.9808 - val_loss: 0.0902 - val_accuracy: 0.9731 - lr: 0.0030\n",
      "Epoch 31/50\n",
      "12/12 [==============================] - 1s 115ms/step - loss: 0.0652 - accuracy: 0.9810 - val_loss: 0.0897 - val_accuracy: 0.9733 - lr: 0.0030\n",
      "Epoch 32/50\n",
      "12/12 [==============================] - 1s 103ms/step - loss: 0.0639 - accuracy: 0.9814 - val_loss: 0.0882 - val_accuracy: 0.9729 - lr: 0.0030\n",
      "Epoch 33/50\n",
      "12/12 [==============================] - 1s 77ms/step - loss: 0.0620 - accuracy: 0.9820 - val_loss: 0.0870 - val_accuracy: 0.9737 - lr: 0.0030\n",
      "Epoch 34/50\n",
      "12/12 [==============================] - 1s 77ms/step - loss: 0.0595 - accuracy: 0.9830 - val_loss: 0.0871 - val_accuracy: 0.9734 - lr: 0.0030\n",
      "Epoch 35/50\n",
      "12/12 [==============================] - 1s 81ms/step - loss: 0.0579 - accuracy: 0.9832 - val_loss: 0.0845 - val_accuracy: 0.9740 - lr: 0.0030\n",
      "Epoch 36/50\n",
      "12/12 [==============================] - 1s 80ms/step - loss: 0.0557 - accuracy: 0.9839 - val_loss: 0.0845 - val_accuracy: 0.9747 - lr: 0.0030\n",
      "Epoch 37/50\n",
      "12/12 [==============================] - 1s 80ms/step - loss: 0.0538 - accuracy: 0.9847 - val_loss: 0.0846 - val_accuracy: 0.9743 - lr: 0.0030\n",
      "Epoch 38/50\n",
      "12/12 [==============================] - 1s 79ms/step - loss: 0.0524 - accuracy: 0.9846 - val_loss: 0.0837 - val_accuracy: 0.9752 - lr: 0.0030\n",
      "Epoch 39/50\n",
      "12/12 [==============================] - 1s 83ms/step - loss: 0.0517 - accuracy: 0.9849 - val_loss: 0.0827 - val_accuracy: 0.9747 - lr: 0.0030\n",
      "Epoch 40/50\n",
      "12/12 [==============================] - 1s 84ms/step - loss: 0.0500 - accuracy: 0.9855 - val_loss: 0.0815 - val_accuracy: 0.9747 - lr: 0.0030\n",
      "Epoch 41/50\n",
      "12/12 [==============================] - 1s 80ms/step - loss: 0.0471 - accuracy: 0.9861 - val_loss: 0.0812 - val_accuracy: 0.9749 - lr: 0.0030\n",
      "Epoch 42/50\n",
      "12/12 [==============================] - 1s 95ms/step - loss: 0.0460 - accuracy: 0.9868 - val_loss: 0.0804 - val_accuracy: 0.9762 - lr: 0.0030\n",
      "Epoch 43/50\n",
      "12/12 [==============================] - 1s 78ms/step - loss: 0.0457 - accuracy: 0.9862 - val_loss: 0.0807 - val_accuracy: 0.9758 - lr: 0.0030\n",
      "Epoch 44/50\n",
      "12/12 [==============================] - 1s 84ms/step - loss: 0.0443 - accuracy: 0.9871 - val_loss: 0.0800 - val_accuracy: 0.9755 - lr: 0.0030\n",
      "Epoch 45/50\n",
      "12/12 [==============================] - 1s 83ms/step - loss: 0.0422 - accuracy: 0.9875 - val_loss: 0.0795 - val_accuracy: 0.9761 - lr: 0.0030\n",
      "Epoch 46/50\n",
      "12/12 [==============================] - 1s 81ms/step - loss: 0.0411 - accuracy: 0.9878 - val_loss: 0.0802 - val_accuracy: 0.9753 - lr: 0.0030\n",
      "Epoch 47/50\n",
      "12/12 [==============================] - 1s 85ms/step - loss: 0.0410 - accuracy: 0.9880 - val_loss: 0.0797 - val_accuracy: 0.9753 - lr: 0.0030\n",
      "Epoch 48/50\n",
      "12/12 [==============================] - 1s 82ms/step - loss: 0.0384 - accuracy: 0.9890 - val_loss: 0.0789 - val_accuracy: 0.9755 - lr: 0.0030\n",
      "Epoch 49/50\n",
      "12/12 [==============================] - 2s 183ms/step - loss: 0.0385 - accuracy: 0.9893 - val_loss: 0.0782 - val_accuracy: 0.9760 - lr: 0.0030\n",
      "Epoch 50/50\n",
      "12/12 [==============================] - 2s 146ms/step - loss: 0.0361 - accuracy: 0.9895 - val_loss: 0.0801 - val_accuracy: 0.9761 - lr: 0.0030\n",
      "\n",
      " Evaluate the new model against the test set:\n",
      "3/3 [==============================] - 0s 57ms/step - loss: 0.0765 - accuracy: 0.9772\n"
     ]
    },
    {
     "data": {
      "text/plain": [
       "[0.07648049294948578, 0.9771999716758728]"
      ]
     },
     "execution_count": 22,
     "metadata": {},
     "output_type": "execute_result"
    },
    {
     "data": {
      "image/png": "[encoded data removed]",
      "text/plain": [
       "<Figure size 640x480 with 1 Axes>"
      ]
     },
     "metadata": {},
     "output_type": "display_data"
    }
   ],
   "source": [
    "learning_rate = 0.003\n",
    "epochs = 50\n",
    "batch_size = 4000\n",
    "validation_split = 0.2\n",
    "\n",
    "# Establish the model's topography.\n",
    "my_model = create_model(learning_rate)\n",
    "\n",
    "# Train the model on the normalized training set.\n",
    "epochs, hist = train_model(my_model, x_train_normalized, y_train, \n",
    "                           epochs, batch_size, validation_split)\n",
    "\n",
    "# Plot a graph of the metric vs. epochs.\n",
    "list_of_metrics_to_plot = ['accuracy']\n",
    "plot_curve(epochs, hist, list_of_metrics_to_plot)\n",
    "\n",
    "# Evaluate against the test set.\n",
    "print(\"\\n Evaluate the new model against the test set:\")\n",
    "my_model.evaluate(x=x_test_normalized, y=y_test, batch_size=batch_size)"
   ]
  },
  {
   "cell_type": "code",
   "execution_count": 23,
   "id": "e6e05858",
   "metadata": {},
   "outputs": [],
   "source": [
    "from PIL import Image"
   ]
  },
  {
   "cell_type": "code",
   "execution_count": 24,
   "id": "87109fee",
   "metadata": {},
   "outputs": [],
   "source": [
    "image_path = 'test.jpeg'  \n",
    "image = Image.open(image_path).convert('L')  # Convert to grayscale\n",
    "image = image.resize((28, 28))  # Resize to match the model's input size\n",
    "image_array = np.array(image).reshape((1, 28, 28, 1)).astype('float32') / 255.0"
   ]
  },
  {
   "cell_type": "code",
   "execution_count": 18,
   "id": "12f51981",
   "metadata": {},
   "outputs": [
    {
     "data": {
      "image/png": "[encoded data removed]",
      "text/plain": [
       "<Figure size 100x100 with 1 Axes>"
      ]
     },
     "metadata": {},
     "output_type": "display_data"
    }
   ],
   "source": [
    "image_to_visualize = image_array.squeeze()\n",
    "\n",
    "plt.figure(figsize=(1, 1))\n",
    "plt.imshow(image_to_visualize, cmap='gray')\n",
    "plt.show()"
   ]
  },
  {
   "cell_type": "code",
   "execution_count": 19,
   "id": "e104d1a6",
   "metadata": {},
   "outputs": [
    {
     "name": "stdout",
     "output_type": "stream",
     "text": [
      "1/1 [==============================] - 0s 305ms/step\n",
      "Predicted class: 5\n"
     ]
    }
   ],
   "source": [
    "predictions = my_model.predict(image_array)\n",
    "\n",
    "# Get the predicted class\n",
    "predicted_class = np.argmax(predictions)\n",
    "\n",
    "print(f'Predicted class: {predicted_class}')"
   ]
  },
  {
   "cell_type": "code",
   "execution_count": 25,
   "id": "46921ac3",
   "metadata": {},
   "outputs": [],
   "source": [
    "# Save the model\n",
    "my_model.save('path_to_save_model.h5')"
   ]
  }
 ],
 "metadata": {
  "kernelspec": {
   "display_name": "Python 3 (ipykernel)",
   "language": "python",
   "name": "python3"
  },
  "language_info": {
   "codemirror_mode": {
    "name": "ipython",
    "version": 3
   },
   "file_extension": ".py",
   "mimetype": "text/x-python",
   "name": "python",
   "nbconvert_exporter": "python",
   "pygments_lexer": "ipython3",
   "version": "3.9.6"
  }
 },
 "nbformat": 4,
 "nbformat_minor": 5
}
